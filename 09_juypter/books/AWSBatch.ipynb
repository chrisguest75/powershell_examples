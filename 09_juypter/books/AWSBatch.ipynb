{
 "cells": [
  {
   "cell_type": "markdown",
   "id": "ff3ec4aa",
   "metadata": {},
   "source": [
    "# AWS Batch"
   ]
  },
  {
   "cell_type": "markdown",
   "id": "de12db18",
   "metadata": {},
   "source": [
    "## Setup"
   ]
  },
  {
   "cell_type": "code",
   "execution_count": null,
   "id": "ab616d8a",
   "metadata": {},
   "outputs": [],
   "source": [
    "Install-Module -Name PowerShellGet -RequiredVersion 2.2.1 -Force"
   ]
  },
  {
   "cell_type": "code",
   "execution_count": null,
   "id": "4fc03dd4",
   "metadata": {},
   "outputs": [],
   "source": [
    "Find-Module  -Name \"AWS.Tools.Batch*\"\n",
    "Install-Module -Name \"AWS.Tools.Batch\""
   ]
  },
  {
   "cell_type": "code",
   "execution_count": null,
   "id": "002ac755",
   "metadata": {},
   "outputs": [],
   "source": [
    "Get-InstalledModule"
   ]
  },
  {
   "cell_type": "code",
   "execution_count": null,
   "id": "60473402",
   "metadata": {},
   "outputs": [],
   "source": [
    "Find-Command -ModuleName \"AWS.Tools.Common\" | sort-object Name"
   ]
  },
  {
   "cell_type": "markdown",
   "id": "b9e8ba79",
   "metadata": {},
   "source": [
    "### Credentials"
   ]
  },
  {
   "cell_type": "code",
   "execution_count": null,
   "id": "a5d362fc",
   "metadata": {},
   "outputs": [],
   "source": [
    "Get-AWSCredential -ListProfileDetail"
   ]
  },
  {
   "cell_type": "code",
   "execution_count": null,
   "id": "d7a244dc",
   "metadata": {},
   "outputs": [],
   "source": [
    "$current_profile = \"\""
   ]
  },
  {
   "cell_type": "code",
   "execution_count": null,
   "id": "5d50af75",
   "metadata": {},
   "outputs": [],
   "source": [
    "Get-AWSCredential\n",
    "Set-AWSCredential -ProfileName $current_profile\n",
    "Get-DefaultAWSRegion \n",
    "Set-DefaultAWSRegion -Region us-east-1"
   ]
  },
  {
   "cell_type": "markdown",
   "id": "5d056235",
   "metadata": {},
   "source": [
    "## Job Queues "
   ]
  },
  {
   "cell_type": "code",
   "execution_count": null,
   "id": "73844bc1",
   "metadata": {},
   "outputs": [],
   "source": [
    "Get-BATJobQueue | select-object JobQueueName"
   ]
  },
  {
   "cell_type": "code",
   "execution_count": null,
   "id": "24766b24",
   "metadata": {},
   "outputs": [],
   "source": [
    "function Show-Jobs([string]$queue=\"\", [string]$jobstatus=\"FAILED\") {\n",
    "    $filtered = Get-BATJobList -JobQueue $queue -JobStatus $jobstatus\n",
    "    $filtered | Select-Object -Property status,jobId,jobName,@{\n",
    "        label='createdAt'\n",
    "        expression={(Get-Date 01.01.1970)+([System.TimeSpan]::fromseconds( $_.CreatedAt/1000))}\n",
    "    },@{\n",
    "        label='startedAt'\n",
    "        expression={(Get-Date 01.01.1970)+([System.TimeSpan]::fromseconds( $_.StartedAt/1000))}\n",
    "    },@{\n",
    "        label='reason'\n",
    "        expression={$_.container.reason}\n",
    "    },@{\n",
    "        label='executionTime'\n",
    "        expression={([System.TimeSpan]::fromseconds( $_.StoppedAt/1000) - ([System.TimeSpan]::fromseconds( $_.StartedAt/1000)))}\n",
    "    },@{\n",
    "        label='waitTime'\n",
    "        expression={([System.TimeSpan]::fromseconds( $_.StartedAt/1000) - ([System.TimeSpan]::fromseconds( $_.CreatedAt/1000)))}\n",
    "    },@{\n",
    "        label='id'\n",
    "        expression={ $_.JobName.substring(25, 22)}\n",
    "    }\n",
    "}\n",
    "\n"
   ]
  },
  {
   "cell_type": "code",
   "execution_count": null,
   "id": "c97f0de0",
   "metadata": {},
   "outputs": [],
   "source": [
    "$queueName = \"\"\n",
    "Show-Jobs -queue $queueName -jobstatus \"FAILED\""
   ]
  }
 ],
 "metadata": {
  "kernelspec": {
   "display_name": ".NET (PowerShell)",
   "language": "PowerShell",
   "name": ".net-powershell"
  },
  "language_info": {
   "file_extension": ".ps1",
   "mimetype": "text/x-powershell",
   "name": "PowerShell",
   "pygments_lexer": "powershell",
   "version": "7.0"
  }
 },
 "nbformat": 4,
 "nbformat_minor": 5
}
