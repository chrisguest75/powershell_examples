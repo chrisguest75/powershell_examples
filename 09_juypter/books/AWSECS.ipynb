{
 "cells": [
  {
   "cell_type": "markdown",
   "id": "ff3ec4aa",
   "metadata": {},
   "source": [
    "# AWS ECS"
   ]
  },
  {
   "cell_type": "markdown",
   "id": "de12db18",
   "metadata": {},
   "source": [
    "## Setup"
   ]
  },
  {
   "cell_type": "code",
   "execution_count": null,
   "id": "ab616d8a",
   "metadata": {},
   "outputs": [],
   "source": [
    "Install-Module -Name PowerShellGet -RequiredVersion 2.2.1 -Force"
   ]
  },
  {
   "cell_type": "code",
   "execution_count": null,
   "id": "4fc03dd4",
   "metadata": {},
   "outputs": [],
   "source": [
    "Find-Module  -Name \"AWS.Tools.ECS*\"\n",
    "Install-Module -Name \"AWS.Tools.Batch\"\n",
    "Install-Module -Name \"AWS.Tools.ECS\"\n",
    "Install-Module -Name \"AWS.Tools.CloudWatchLogs\" "
   ]
  },
  {
   "cell_type": "code",
   "execution_count": null,
   "id": "002ac755",
   "metadata": {},
   "outputs": [],
   "source": [
    "Get-InstalledModule"
   ]
  },
  {
   "cell_type": "code",
   "execution_count": null,
   "id": "60473402",
   "metadata": {},
   "outputs": [],
   "source": [
    "Find-Command -ModuleName \"AWS.Tools.ECS\" | sort-object Name"
   ]
  },
  {
   "cell_type": "markdown",
   "id": "b9e8ba79",
   "metadata": {},
   "source": [
    "### Credentials"
   ]
  },
  {
   "cell_type": "code",
   "execution_count": null,
   "id": "a5d362fc",
   "metadata": {},
   "outputs": [],
   "source": [
    "Get-AWSCredential -ListProfileDetail"
   ]
  },
  {
   "cell_type": "code",
   "execution_count": null,
   "id": "d7a244dc",
   "metadata": {},
   "outputs": [],
   "source": [
    "$current_profile = \"\""
   ]
  },
  {
   "cell_type": "code",
   "execution_count": null,
   "id": "5d50af75",
   "metadata": {},
   "outputs": [],
   "source": [
    "Get-AWSCredential\n",
    "Set-AWSCredential -ProfileName $current_profile\n",
    "Get-DefaultAWSRegion \n",
    "Set-DefaultAWSRegion -Region us-east-1"
   ]
  },
  {
   "cell_type": "markdown",
   "id": "3d9d20b6",
   "metadata": {},
   "source": [
    "## Tasks "
   ]
  },
  {
   "cell_type": "code",
   "execution_count": null,
   "id": "73844bc1",
   "metadata": {},
   "outputs": [],
   "source": [
    "Get-ECSClusterList"
   ]
  },
  {
   "cell_type": "code",
   "execution_count": null,
   "id": "6172a6cf",
   "metadata": {},
   "outputs": [],
   "source": [
    "Get-ECSCapacityProvider"
   ]
  },
  {
   "cell_type": "code",
   "execution_count": null,
   "id": "2c939ef9",
   "metadata": {},
   "outputs": [],
   "source": [
    "$cluster = \"\"\n",
    "\n",
    "(Get-ECSClusterDetail -Cluster $cluster).Clusters\n"
   ]
  },
  {
   "cell_type": "code",
   "execution_count": null,
   "id": "1a77044b",
   "metadata": {},
   "outputs": [],
   "source": [
    "Get-ECSTaskDefinitionList"
   ]
  },
  {
   "cell_type": "code",
   "execution_count": null,
   "id": "d6f6b67f",
   "metadata": {},
   "outputs": [],
   "source": [
    "$taskdefinition = \"\"\n",
    "(Get-ECSTaskDefinitionDetail -TaskDefinition $taskdefinition).TaskDefinition\n"
   ]
  },
  {
   "cell_type": "code",
   "execution_count": null,
   "id": "290c39e8",
   "metadata": {},
   "outputs": [],
   "source": [
    "Get-ECSTaskList -cluster $cluster"
   ]
  },
  {
   "cell_type": "code",
   "execution_count": null,
   "id": "ebc13ed2",
   "metadata": {},
   "outputs": [],
   "source": [
    "$task = \"\"\n",
    "\n",
    "(Get-ECSTaskDetail -Cluster $cluster -Task $task)"
   ]
  },
  {
   "cell_type": "markdown",
   "id": "87cdac62",
   "metadata": {},
   "source": [
    "## Containers"
   ]
  },
  {
   "cell_type": "code",
   "execution_count": null,
   "id": "62426343",
   "metadata": {},
   "outputs": [],
   "source": [
    "Get-ECSContainerInstanceList -cluster $cluster"
   ]
  },
  {
   "cell_type": "code",
   "execution_count": null,
   "id": "25c8f627",
   "metadata": {},
   "outputs": [],
   "source": [
    "$containerinstance = \"\"\n",
    "\n",
    "(Get-ECSContainerInstanceDetail -cluster $cluster  -ContainerInstance $containerinstance)"
   ]
  }
 ],
 "metadata": {
  "kernelspec": {
   "display_name": ".NET (PowerShell)",
   "language": "PowerShell",
   "name": ".net-powershell"
  },
  "language_info": {
   "file_extension": ".ps1",
   "mimetype": "text/x-powershell",
   "name": "PowerShell",
   "pygments_lexer": "powershell",
   "version": "7.0"
  }
 },
 "nbformat": 4,
 "nbformat_minor": 5
}
